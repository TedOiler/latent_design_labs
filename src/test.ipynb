{
 "cells": [
  {
   "cell_type": "code",
   "execution_count": 1,
   "metadata": {},
   "outputs": [],
   "source": [
    "from models.sos import ScalarOnScalarModel\n",
    "from optimizers.nbdo import NBDO\n",
    "from bases.bspline import BSplineBasis\n",
    "from models.sof import ScalarOnFunctionModel\n",
    "import numpy as np"
   ]
  },
  {
   "cell_type": "code",
   "execution_count": 2,
   "metadata": {},
   "outputs": [
    {
     "data": {
      "text/plain": [
       "np.float64(1.24)"
      ]
     },
     "execution_count": 2,
     "metadata": {},
     "output_type": "execute_result"
    }
   ],
   "source": [
    "# SoS\n",
    "model = ScalarOnScalarModel(Kx=3, criterion=\"A\", order=2)\n",
    "nbdo = NBDO(model=model, latent_dim=4, seed=42)\n",
    "nbdo.compute_train_set(num_designs=1_000, runs=25)\n",
    "nbdo.fit(epochs=1_000, patience=100, batch_size=256)\n",
    "crit, design = nbdo.optimize(n_calls=30)\n",
    "np.round(crit,2)"
   ]
  },
  {
   "cell_type": "code",
   "execution_count": 3,
   "metadata": {},
   "outputs": [
    {
     "data": {
      "text/plain": [
       "array([[ 1., -1.,  1.],\n",
       "       [-1., -1., -1.],\n",
       "       [-1.,  0.,  0.],\n",
       "       [ 0., -1., -0.],\n",
       "       [-1., -0., -1.],\n",
       "       [ 1., -1., -1.],\n",
       "       [ 0., -0., -0.],\n",
       "       [ 1.,  1., -1.],\n",
       "       [ 1.,  1.,  0.],\n",
       "       [-0., -1.,  0.],\n",
       "       [ 0., -0., -1.],\n",
       "       [ 0.,  1.,  0.],\n",
       "       [ 0.,  0., -0.],\n",
       "       [-1.,  1.,  1.],\n",
       "       [-1., -1.,  1.],\n",
       "       [ 1., -0.,  1.],\n",
       "       [ 0.,  1.,  1.],\n",
       "       [-0.,  0.,  1.],\n",
       "       [-0., -0.,  1.],\n",
       "       [ 1.,  1.,  1.],\n",
       "       [-1.,  1., -1.],\n",
       "       [-0.,  1., -1.],\n",
       "       [-1.,  0.,  0.],\n",
       "       [ 1., -0., -0.],\n",
       "       [-1.,  1.,  0.]], dtype=float32)"
      ]
     },
     "execution_count": 3,
     "metadata": {},
     "output_type": "execute_result"
    }
   ],
   "source": [
    "np.round(design)"
   ]
  },
  {
   "cell_type": "code",
   "execution_count": 4,
   "metadata": {},
   "outputs": [
    {
     "name": "stdout",
     "output_type": "stream",
     "text": [
      "p = 10, λ_min = 3.458e+00, λ_max = 5.728e+01, κ2 = 1.66e+01\n",
      "leverage stats: min=0.179, max=0.748, mean=0.400\n"
     ]
    }
   ],
   "source": [
    "from diagnostics import (\n",
    "    info_matrix, eigen_spectrum, condition_number,\n",
    "    leverage_diag, prediction_variance,\n",
    ")\n",
    "\n",
    "M = info_matrix(model, design)\n",
    "eigvals, _ = eigen_spectrum(M)\n",
    "kappa = condition_number(M)\n",
    "print(f\"p = {M.shape[0]}, λ_min = {eigvals[-1]:.3e}, λ_max = {eigvals[0]:.3e}, κ2 = {kappa:.2e}\")\n",
    "\n",
    "h = leverage_diag(model, design)\n",
    "print(f\"leverage stats: min={h.min():.3f}, max={h.max():.3f}, mean={h.mean():.3f}\")\n"
   ]
  },
  {
   "cell_type": "code",
   "execution_count": 5,
   "metadata": {},
   "outputs": [],
   "source": [
    "# # SoF\n",
    "# xB, bB = BSplineBasis(0,4), BSplineBasis(0,2)\n",
    "# nbdo2 = NBDO(model=ScalarOnFunctionModel([(xB,bB)], criterion=\"D\", intercept=True), latent_dim=2, seed=42, verbose=False)\n",
    "# nbdo2.compute_train_set(num_designs=1_000, runs=12)\n",
    "# nbdo2.fit(epochs=10, patience=5, batch_size=256)\n",
    "# crit2, design2 = nbdo2.optimize(n_calls=5)\n",
    "# crit2"
   ]
  },
  {
   "cell_type": "code",
   "execution_count": 6,
   "metadata": {},
   "outputs": [],
   "source": [
    "# # examples/sof_two_factor_smoke.py\n",
    "# import numpy as np\n",
    "# from bases.bspline import BSplineBasis\n",
    "# from models.sof import ScalarOnFunctionModel\n",
    "# from optimizers.nbdo import NBDO\n",
    "\n",
    "# # Factor 1\n",
    "# x1 = BSplineBasis(degree=0, total_knots_num=4)  # Kx1 = x1.num_basis()\n",
    "# b1 = BSplineBasis(degree=0, total_knots_num=3)  # Kb1 = b1.num_basis()\n",
    "\n",
    "# # Factor 2\n",
    "# x2 = BSplineBasis(degree=1, total_knots_num=5)  # different degree/knots ok\n",
    "# b2 = BSplineBasis(degree=0, total_knots_num=4)\n",
    "\n",
    "# model = ScalarOnFunctionModel(\n",
    "#     basis_pairs=[(x1, b1), (x2, b2)],\n",
    "#     criterion=\"A\",\n",
    "#     intercept=True\n",
    "# )\n",
    "\n",
    "# # End-to-end smoke\n",
    "# opt = NBDO(model=model, latent_dim=2, seed=0)\n",
    "# opt.compute_train_set(num_designs=64, runs=25)\n",
    "# opt.fit(epochs=5, batch_size=32, patience=3)     # short & cheap\n",
    "# best_cr, best_des = opt.optimize(n_calls=8)      # short BO\n",
    "# print(\"criterion:\", np.round(best_cr,2)) # 10.93\n",
    "# print(\"design shape:\", best_des.shape)  # expected (N, model.Kx)\n"
   ]
  },
  {
   "cell_type": "code",
   "execution_count": null,
   "metadata": {},
   "outputs": [],
   "source": []
  }
 ],
 "metadata": {
  "kernelspec": {
   "display_name": ".venv",
   "language": "python",
   "name": "python3"
  },
  "language_info": {
   "codemirror_mode": {
    "name": "ipython",
    "version": 3
   },
   "file_extension": ".py",
   "mimetype": "text/x-python",
   "name": "python",
   "nbconvert_exporter": "python",
   "pygments_lexer": "ipython3",
   "version": "3.11.13"
  }
 },
 "nbformat": 4,
 "nbformat_minor": 2
}
