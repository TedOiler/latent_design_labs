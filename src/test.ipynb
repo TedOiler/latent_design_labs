{
 "cells": [
  {
   "cell_type": "code",
   "execution_count": 10,
   "metadata": {},
   "outputs": [],
   "source": [
    "from models.sos import ScalarOnScalarModel\n",
    "from optimizers.nbdo import NBDO\n",
    "import numpy as np"
   ]
  },
  {
   "cell_type": "code",
   "execution_count": 2,
   "metadata": {},
   "outputs": [],
   "source": [
    "model_sos = ScalarOnScalarModel(Kx=5)"
   ]
  },
  {
   "cell_type": "code",
   "execution_count": 3,
   "metadata": {},
   "outputs": [],
   "source": [
    "optimizer = NBDO(model=model_sos, latent_dim=2)\n",
    "optimizer.compute_train_set(num_designs=100, runs=12)"
   ]
  },
  {
   "cell_type": "code",
   "execution_count": 4,
   "metadata": {},
   "outputs": [
    {
     "name": "stderr",
     "output_type": "stream",
     "text": [
      "/Users/thodorisladas/Documents/code/latent_design_labs/.venv/lib/python3.11/site-packages/keras/src/layers/activations/leaky_relu.py:41: UserWarning: Argument `alpha` is deprecated. Use `negative_slope` instead.\n",
      "  warnings.warn(\n"
     ]
    },
    {
     "data": {
      "text/plain": [
       "<keras.src.callbacks.history.History at 0x162b0dcd0>"
      ]
     },
     "execution_count": 4,
     "metadata": {},
     "output_type": "execute_result"
    }
   ],
   "source": [
    "optimizer.fit(epochs=50, patience=10)"
   ]
  },
  {
   "cell_type": "code",
   "execution_count": 5,
   "metadata": {},
   "outputs": [
    {
     "name": "stdout",
     "output_type": "stream",
     "text": [
      "Iteration No: 1 started. Evaluating function at random point.\n",
      "\u001b[1m1/1\u001b[0m \u001b[32m━━━━━━━━━━━━━━━━━━━━\u001b[0m\u001b[37m\u001b[0m \u001b[1m0s\u001b[0m 23ms/step\n",
      "Iteration No: 1 ended. Evaluation done at random point.\n",
      "Time taken: 0.0361\n",
      "Function value obtained: 37.9765\n",
      "Current minimum: 37.9765\n",
      "Iteration No: 2 started. Evaluating function at random point.\n",
      "\u001b[1m1/1\u001b[0m \u001b[32m━━━━━━━━━━━━━━━━━━━━\u001b[0m\u001b[37m\u001b[0m \u001b[1m0s\u001b[0m 11ms/step\n",
      "Iteration No: 2 ended. Evaluation done at random point.\n",
      "Time taken: 0.0220\n",
      "Function value obtained: 13.9841\n",
      "Current minimum: 13.9841\n",
      "Iteration No: 3 started. Evaluating function at random point.\n",
      "\u001b[1m1/1\u001b[0m \u001b[32m━━━━━━━━━━━━━━━━━━━━\u001b[0m\u001b[37m\u001b[0m \u001b[1m0s\u001b[0m 11ms/step\n",
      "Iteration No: 3 ended. Evaluation done at random point.\n",
      "Time taken: 0.0232\n",
      "Function value obtained: 32.2062\n",
      "Current minimum: 13.9841\n",
      "Iteration No: 4 started. Evaluating function at random point.\n",
      "\u001b[1m1/1\u001b[0m \u001b[32m━━━━━━━━━━━━━━━━━━━━\u001b[0m\u001b[37m\u001b[0m \u001b[1m0s\u001b[0m 11ms/step\n",
      "Iteration No: 4 ended. Evaluation done at random point.\n",
      "Time taken: 0.0213\n",
      "Function value obtained: 12.3620\n",
      "Current minimum: 12.3620\n",
      "Iteration No: 5 started. Evaluating function at random point.\n",
      "\u001b[1m1/1\u001b[0m \u001b[32m━━━━━━━━━━━━━━━━━━━━\u001b[0m\u001b[37m\u001b[0m \u001b[1m0s\u001b[0m 11ms/step\n",
      "Iteration No: 5 ended. Evaluation done at random point.\n",
      "Time taken: 0.0590\n",
      "Function value obtained: 1.3012\n",
      "Current minimum: 1.3012\n",
      "Iteration No: 6 started. Searching for the next optimal point.\n",
      "\u001b[1m1/1\u001b[0m \u001b[32m━━━━━━━━━━━━━━━━━━━━\u001b[0m\u001b[37m\u001b[0m \u001b[1m0s\u001b[0m 10ms/step\n",
      "Iteration No: 6 ended. Search finished for the next optimal point.\n",
      "Time taken: 0.0441\n",
      "Function value obtained: 1.2341\n",
      "Current minimum: 1.2341\n",
      "Iteration No: 7 started. Searching for the next optimal point.\n",
      "\u001b[1m1/1\u001b[0m \u001b[32m━━━━━━━━━━━━━━━━━━━━\u001b[0m\u001b[37m\u001b[0m \u001b[1m0s\u001b[0m 10ms/step\n",
      "Iteration No: 7 ended. Search finished for the next optimal point.\n",
      "Time taken: 0.0681\n",
      "Function value obtained: 13.9841\n",
      "Current minimum: 1.2341\n",
      "Iteration No: 8 started. Searching for the next optimal point.\n",
      "\u001b[1m1/1\u001b[0m \u001b[32m━━━━━━━━━━━━━━━━━━━━\u001b[0m\u001b[37m\u001b[0m \u001b[1m0s\u001b[0m 10ms/step\n",
      "Iteration No: 8 ended. Search finished for the next optimal point.\n",
      "Time taken: 0.0417\n",
      "Function value obtained: 13.9841\n",
      "Current minimum: 1.2341\n",
      "Iteration No: 9 started. Searching for the next optimal point.\n",
      "\u001b[1m1/1\u001b[0m \u001b[32m━━━━━━━━━━━━━━━━━━━━\u001b[0m\u001b[37m\u001b[0m \u001b[1m0s\u001b[0m 10ms/step\n",
      "Iteration No: 9 ended. Search finished for the next optimal point.\n",
      "Time taken: 0.0476\n",
      "Function value obtained: 15.6422\n",
      "Current minimum: 1.2341\n",
      "Iteration No: 10 started. Searching for the next optimal point.\n",
      "\u001b[1m1/1\u001b[0m \u001b[32m━━━━━━━━━━━━━━━━━━━━\u001b[0m\u001b[37m\u001b[0m \u001b[1m0s\u001b[0m 10ms/step\n",
      "Iteration No: 10 ended. Search finished for the next optimal point.\n",
      "Time taken: 0.0444\n",
      "Function value obtained: 1.9526\n",
      "Current minimum: 1.2341\n",
      "\u001b[1m1/1\u001b[0m \u001b[32m━━━━━━━━━━━━━━━━━━━━\u001b[0m\u001b[37m\u001b[0m \u001b[1m0s\u001b[0m 9ms/step\n"
     ]
    },
    {
     "name": "stderr",
     "output_type": "stream",
     "text": [
      "/Users/thodorisladas/Documents/code/latent_design_labs/.venv/lib/python3.11/site-packages/skopt/optimizer/optimizer.py:517: UserWarning: The objective has been evaluated at point [np.int64(-1), np.int64(1)] before, using random point [np.int64(1), np.int64(0)]\n",
      "  warnings.warn(\n"
     ]
    }
   ],
   "source": [
    "best_criterion, best_design = optimizer.optimize()"
   ]
  },
  {
   "cell_type": "code",
   "execution_count": 6,
   "metadata": {},
   "outputs": [
    {
     "data": {
      "text/plain": [
       "np.float64(1.2341310340300788)"
      ]
     },
     "execution_count": 6,
     "metadata": {},
     "output_type": "execute_result"
    }
   ],
   "source": [
    "best_criterion"
   ]
  },
  {
   "cell_type": "code",
   "execution_count": 11,
   "metadata": {},
   "outputs": [
    {
     "name": "stdout",
     "output_type": "stream",
     "text": [
      "[[-1.  1. -0.  0. -1.]\n",
      " [-1.  1. -1. -0.  0.]\n",
      " [ 1. -1. -1.  1. -0.]\n",
      " [ 1.  1.  1. -1.  0.]\n",
      " [ 1. -0.  1. -0. -1.]\n",
      " [-1. -1.  1.  0. -1.]\n",
      " [ 0. -0.  1.  0.  0.]\n",
      " [-1.  1.  1.  1.  1.]\n",
      " [ 1.  0. -1. -1. -0.]\n",
      " [ 0. -0.  1.  1.  1.]\n",
      " [-0.  0. -1.  1.  1.]\n",
      " [-1. -1.  0. -1.  1.]]\n"
     ]
    }
   ],
   "source": [
    "print(np.round(best_design))"
   ]
  },
  {
   "cell_type": "code",
   "execution_count": null,
   "metadata": {},
   "outputs": [],
   "source": []
  }
 ],
 "metadata": {
  "kernelspec": {
   "display_name": ".venv",
   "language": "python",
   "name": "python3"
  },
  "language_info": {
   "codemirror_mode": {
    "name": "ipython",
    "version": 3
   },
   "file_extension": ".py",
   "mimetype": "text/x-python",
   "name": "python",
   "nbconvert_exporter": "python",
   "pygments_lexer": "ipython3",
   "version": "3.11.13"
  }
 },
 "nbformat": 4,
 "nbformat_minor": 2
}
