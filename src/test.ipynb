{
 "cells": [
  {
   "cell_type": "code",
   "execution_count": 1,
   "metadata": {},
   "outputs": [],
   "source": [
    "from models.sos import ScalarOnScalarModel\n",
    "from optimizers.nbdo import NBDO\n",
    "import numpy as np"
   ]
  },
  {
   "cell_type": "code",
   "execution_count": 2,
   "metadata": {},
   "outputs": [
    {
     "ename": "TypeError",
     "evalue": "Can't instantiate abstract class PsiA with abstract methods loss_from_M_np, loss_from_M_tf",
     "output_type": "error",
     "traceback": [
      "\u001b[31m---------------------------------------------------------------------------\u001b[39m",
      "\u001b[31mTypeError\u001b[39m                                 Traceback (most recent call last)",
      "\u001b[36mCell\u001b[39m\u001b[36m \u001b[39m\u001b[32mIn[2]\u001b[39m\u001b[32m, line 1\u001b[39m\n\u001b[32m----> \u001b[39m\u001b[32m1\u001b[39m nbdo = NBDO(model=\u001b[43mScalarOnScalarModel\u001b[49m\u001b[43m(\u001b[49m\u001b[43mKx\u001b[49m\u001b[43m=\u001b[49m\u001b[32;43m5\u001b[39;49m\u001b[43m,\u001b[49m\u001b[43m \u001b[49m\u001b[43mcriterion\u001b[49m\u001b[43m \u001b[49m\u001b[43m=\u001b[49m\u001b[43m \u001b[49m\u001b[33;43m\"\u001b[39;49m\u001b[33;43mA\u001b[39;49m\u001b[33;43m\"\u001b[39;49m\u001b[43m,\u001b[49m\u001b[43m \u001b[49m\u001b[43morder\u001b[49m\u001b[43m=\u001b[49m\u001b[32;43m1\u001b[39;49m\u001b[43m)\u001b[49m, latent_dim=\u001b[32m4\u001b[39m, seed=\u001b[32m42\u001b[39m,)\n\u001b[32m      2\u001b[39m nbdo.compute_train_set(num_designs=\u001b[32m1_000\u001b[39m, runs=\u001b[32m50\u001b[39m)\n",
      "\u001b[36mFile \u001b[39m\u001b[32m~/Documents/code/latent_design_labs/src/models/sos.py:14\u001b[39m, in \u001b[36mScalarOnScalarModel.__init__\u001b[39m\u001b[34m(self, Kx, order, const, criterion)\u001b[39m\n\u001b[32m     11\u001b[39m \u001b[38;5;28mself\u001b[39m.const = \u001b[38;5;28mbool\u001b[39m(const)\n\u001b[32m     13\u001b[39m c = \u001b[38;5;28mstr\u001b[39m(criterion).upper()\n\u001b[32m---> \u001b[39m\u001b[32m14\u001b[39m \u001b[38;5;28mself\u001b[39m.psi = \u001b[43mPsiA\u001b[49m\u001b[43m(\u001b[49m\u001b[43m)\u001b[49m \u001b[38;5;28;01mif\u001b[39;00m c == \u001b[33m\"\u001b[39m\u001b[33mA\u001b[39m\u001b[33m\"\u001b[39m \u001b[38;5;28;01melse\u001b[39;00m PsiD() \u001b[38;5;28;01mif\u001b[39;00m c == \u001b[33m\"\u001b[39m\u001b[33mD\u001b[39m\u001b[33m\"\u001b[39m \u001b[38;5;28;01melse\u001b[39;00m (_ \u001b[38;5;28;01mfor\u001b[39;00m _ \u001b[38;5;129;01min\u001b[39;00m ()).throw(\u001b[38;5;167;01mValueError\u001b[39;00m(\u001b[33mf\u001b[39m\u001b[33m\"\u001b[39m\u001b[33mUnknown \u001b[39m\u001b[38;5;132;01m{\u001b[39;00mc\u001b[38;5;132;01m}\u001b[39;00m\u001b[33m\"\u001b[39m))\n\u001b[32m     16\u001b[39m \u001b[38;5;66;03m# --- Polynomial basis meta (attribute as requested) ---\u001b[39;00m\n\u001b[32m     17\u001b[39m \u001b[38;5;28mself\u001b[39m.monomial_combos = [\n\u001b[32m     18\u001b[39m     combo\n\u001b[32m     19\u001b[39m     \u001b[38;5;28;01mfor\u001b[39;00m o \u001b[38;5;129;01min\u001b[39;00m \u001b[38;5;28mrange\u001b[39m(\u001b[32m1\u001b[39m, \u001b[38;5;28mself\u001b[39m.order + \u001b[32m1\u001b[39m)\n\u001b[32m     20\u001b[39m     \u001b[38;5;28;01mfor\u001b[39;00m combo \u001b[38;5;129;01min\u001b[39;00m combinations_with_replacement(\u001b[38;5;28mrange\u001b[39m(\u001b[38;5;28mself\u001b[39m.Kx), o)\n\u001b[32m     21\u001b[39m ]\n",
      "\u001b[31mTypeError\u001b[39m: Can't instantiate abstract class PsiA with abstract methods loss_from_M_np, loss_from_M_tf"
     ]
    }
   ],
   "source": [
    "nbdo = NBDO(model=ScalarOnScalarModel(Kx=5, criterion = \"A\", order=1), latent_dim=4, seed=42,)\n",
    "nbdo.compute_train_set(num_designs=1_000, runs=50)"
   ]
  },
  {
   "cell_type": "code",
   "execution_count": null,
   "metadata": {},
   "outputs": [],
   "source": [
    "nbdo.fit(epochs=1_000, patience=100, batch_size=512)\n",
    "crit, design = nbdo.optimize(n_calls=30)"
   ]
  },
  {
   "cell_type": "code",
   "execution_count": null,
   "metadata": {},
   "outputs": [],
   "source": [
    "crit"
   ]
  },
  {
   "cell_type": "code",
   "execution_count": null,
   "metadata": {},
   "outputs": [],
   "source": [
    "np.round(design, 2)"
   ]
  },
  {
   "cell_type": "code",
   "execution_count": null,
   "metadata": {},
   "outputs": [],
   "source": []
  }
 ],
 "metadata": {
  "kernelspec": {
   "display_name": ".venv",
   "language": "python",
   "name": "python3"
  },
  "language_info": {
   "codemirror_mode": {
    "name": "ipython",
    "version": 3
   },
   "file_extension": ".py",
   "mimetype": "text/x-python",
   "name": "python",
   "nbconvert_exporter": "python",
   "pygments_lexer": "ipython3",
   "version": "3.11.13"
  }
 },
 "nbformat": 4,
 "nbformat_minor": 2
}
