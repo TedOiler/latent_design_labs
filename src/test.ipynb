{
 "cells": [
  {
   "cell_type": "code",
   "execution_count": 1,
   "metadata": {},
   "outputs": [],
   "source": [
    "from models.sos import ScalarOnScalarModel\n",
    "from optimizers.nbdo import NBDO\n",
    "import numpy as np"
   ]
  },
  {
   "cell_type": "code",
   "execution_count": 2,
   "metadata": {},
   "outputs": [
    {
     "name": "stderr",
     "output_type": "stream",
     "text": [
      "/Users/thodorisladas/Documents/code/latent_design_labs/src/optimizers/nbdo.py:137: UserWarning: The balance properties of Sobol' points require n to be a power of 2.\n",
      "  X_unit = sampler.random(num_designs).astype(np.float32)\n"
     ]
    }
   ],
   "source": [
    "nbdo = NBDO(model=ScalarOnScalarModel(Kx=5, criterion = \"D\", order=1), latent_dim=4, seed=42,)\n",
    "nbdo.compute_train_set(num_designs=1_000, runs=50)"
   ]
  },
  {
   "cell_type": "code",
   "execution_count": 3,
   "metadata": {},
   "outputs": [
    {
     "name": "stderr",
     "output_type": "stream",
     "text": [
      "2025-08-24 04:24:11.208722: E tensorflow/core/framework/node_def_util.cc:680] NodeDef mentions attribute use_unbounded_threadpool which is not in the op definition: Op<name=MapDataset; signature=input_dataset:variant, other_arguments: -> handle:variant; attr=f:func; attr=Targuments:list(type),min=0; attr=output_types:list(type),min=1; attr=output_shapes:list(shape),min=1; attr=use_inter_op_parallelism:bool,default=true; attr=preserve_cardinality:bool,default=false; attr=force_synchronous:bool,default=false; attr=metadata:string,default=\"\"> This may be expected if your graph generating binary is newer  than this binary. Unknown attributes will be ignored. NodeDef: {{node ParallelMapDatasetV2/_15}}\n",
      "2025-08-24 04:24:16.216999: E tensorflow/core/framework/node_def_util.cc:680] NodeDef mentions attribute use_unbounded_threadpool which is not in the op definition: Op<name=MapDataset; signature=input_dataset:variant, other_arguments: -> handle:variant; attr=f:func; attr=Targuments:list(type),min=0; attr=output_types:list(type),min=1; attr=output_shapes:list(shape),min=1; attr=use_inter_op_parallelism:bool,default=true; attr=preserve_cardinality:bool,default=false; attr=force_synchronous:bool,default=false; attr=metadata:string,default=\"\"> This may be expected if your graph generating binary is newer  than this binary. Unknown attributes will be ignored. NodeDef: {{node ParallelMapDatasetV2/_14}}\n"
     ]
    }
   ],
   "source": [
    "nbdo.fit(epochs=100, patience=10, batch_size=512)\n",
    "crit, design = nbdo.optimize(n_calls=30)"
   ]
  },
  {
   "cell_type": "code",
   "execution_count": 4,
   "metadata": {},
   "outputs": [
    {
     "data": {
      "text/plain": [
       "14872156721.348185"
      ]
     },
     "execution_count": 4,
     "metadata": {},
     "output_type": "execute_result"
    }
   ],
   "source": [
    "crit"
   ]
  },
  {
   "cell_type": "code",
   "execution_count": 5,
   "metadata": {},
   "outputs": [
    {
     "data": {
      "text/plain": [
       "array([[-1., -1.,  1.,  1.,  1.],\n",
       "       [-1.,  1.,  1.,  1., -1.],\n",
       "       [-1., -1., -1.,  1., -1.],\n",
       "       [-1., -1., -1., -1.,  1.],\n",
       "       [-1.,  1.,  1.,  1.,  1.],\n",
       "       [-1.,  1., -1.,  1.,  1.],\n",
       "       [ 1., -1.,  1.,  1.,  1.],\n",
       "       [ 1.,  1.,  1., -1.,  1.],\n",
       "       [-1., -1.,  1.,  1., -1.],\n",
       "       [ 1.,  1.,  1.,  1.,  1.],\n",
       "       [ 1., -1., -1.,  1.,  1.],\n",
       "       [ 1.,  1.,  1., -1.,  1.],\n",
       "       [ 1., -1., -1.,  1.,  1.],\n",
       "       [-1., -1.,  1., -1.,  1.],\n",
       "       [ 1.,  1., -1., -1.,  1.],\n",
       "       [-1., -1., -1.,  1., -1.],\n",
       "       [-1., -1., -1., -1., -1.],\n",
       "       [-1.,  1.,  1.,  1.,  1.],\n",
       "       [-1.,  1., -1.,  1.,  1.],\n",
       "       [-1., -1., -1., -1.,  1.],\n",
       "       [-1., -1., -1., -1.,  1.],\n",
       "       [-1.,  1., -1.,  1., -1.],\n",
       "       [ 1.,  1., -1.,  1.,  1.],\n",
       "       [ 1.,  1.,  1., -1., -1.],\n",
       "       [ 1.,  1.,  1.,  1., -1.],\n",
       "       [ 1., -1.,  1., -1., -1.],\n",
       "       [-1.,  1., -1., -1.,  1.],\n",
       "       [ 1., -1.,  1.,  1.,  1.],\n",
       "       [-1., -1., -1., -1.,  1.],\n",
       "       [ 1.,  1., -1., -1., -1.],\n",
       "       [-1., -1.,  1., -1., -1.],\n",
       "       [-1.,  1.,  1.,  1.,  1.],\n",
       "       [ 1., -1., -1.,  1.,  1.],\n",
       "       [-1., -1.,  1., -1., -1.],\n",
       "       [-1.,  1.,  1., -1., -1.],\n",
       "       [ 1., -1.,  1., -1.,  1.],\n",
       "       [ 1., -1., -1.,  1., -1.],\n",
       "       [-1., -1., -1., -1., -1.],\n",
       "       [-1.,  1., -1.,  1., -1.],\n",
       "       [ 1.,  1., -1.,  1., -1.],\n",
       "       [-1.,  1., -1., -1., -1.],\n",
       "       [ 1., -1., -1., -1., -1.],\n",
       "       [ 1.,  1.,  1., -1., -1.],\n",
       "       [-1.,  1.,  1., -1.,  1.],\n",
       "       [ 1.,  1., -1.,  1.,  1.],\n",
       "       [ 1., -1.,  1.,  1., -1.],\n",
       "       [ 1.,  1., -1., -1., -1.],\n",
       "       [ 1.,  1., -1.,  1., -1.],\n",
       "       [-1.,  1., -1., -1.,  1.],\n",
       "       [ 1.,  1.,  1., -1., -1.]], dtype=float32)"
      ]
     },
     "execution_count": 5,
     "metadata": {},
     "output_type": "execute_result"
    }
   ],
   "source": [
    "np.round(design, 2)"
   ]
  },
  {
   "cell_type": "code",
   "execution_count": null,
   "metadata": {},
   "outputs": [],
   "source": []
  }
 ],
 "metadata": {
  "kernelspec": {
   "display_name": ".venv",
   "language": "python",
   "name": "python3"
  },
  "language_info": {
   "codemirror_mode": {
    "name": "ipython",
    "version": 3
   },
   "file_extension": ".py",
   "mimetype": "text/x-python",
   "name": "python",
   "nbconvert_exporter": "python",
   "pygments_lexer": "ipython3",
   "version": "3.11.13"
  }
 },
 "nbformat": 4,
 "nbformat_minor": 2
}
